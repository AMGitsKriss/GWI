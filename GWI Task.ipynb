{
 "cells": [
  {
   "cell_type": "markdown",
   "metadata": {},
   "source": [
    "# Data Wrangling\n",
    "\n",
    "\n",
    "**Describe the data: what values it mostly contains, what is the size of the dataset etc.**  \n",
    "    - Before processing: 100,200 entries.\n",
    "    - Mostly 1's and 0's, but there's other values in there (spotted a few 2's, so I doubt it's boolean data or normalised data)\n",
    "    - A person's response? Multiple choice? Flags for whether the user did somthing or didn't?\n",
    "    \n",
    "**Drop all duplicate respondents based on `respondent_index` column (keep the first occurrence of the respondent)**  \n",
    "    - iirc, I can do this with a dataframe\n",
    "\n",
    "**We will compute weighting based on the `q2` (gender) and `q4` (age group) column. Drop all respondents having NaNs in these columns. Do you know why this could happen and what the possible solutions are?**  \n",
    "    - If the user's not done/interacted with theitem it represents. (Common Example: \"What country are you from?\" If the user selects \"US\" there might be a field asking what state, that doesn't appear to anyone outside the US.)\n",
    "    - Typically you either drop NaNs, or fill them with the mean value of the column/feature. \n",
    "\n",
    "**There is a `q3_column.csv` file in the directory. Download it and merge it on the index to the original dataframe. Are there more variants of (a database) merge?**\n",
    "    - Uuh, I don't know?"
   ]
  },
  {
   "cell_type": "markdown",
   "metadata": {},
   "source": [
    "# Computation\n",
    "\n",
    "\n",
    "Numbers on each line clearly don’t match, so you need to edit the code so it does match. There is a bug in computing the `factor` in function `get_factor_weights`, which is a value which should be assigned to a respondent with a given combination of q2 and q4. \n",
    "\n",
    "TASK: You have to locate and fix this bug in order to complete this part. The numbers on each line should match. Hence, the output of a correct solution should be:\n",
    "\n",
    "    $ python compute_weights.py tmp.hdf\n",
    "    (q2, q4): (0, 0)\t 1000.0 \t 1000\n",
    "    (q2, q4): (0, 1)\t 2000.0 \t 2000\n",
    "    (q2, q4): (0, 2)\t 3000.0 \t 3000\n",
    "    (q2, q4): (1, 0)\t 5000.0 \t 5000\n",
    "    (q2, q4): (1, 1)\t 8000.0 \t 8000\n",
    "    (q2, q4): (1, 2)\t 3000.0 \t 3000\n",
    "\n",
    "VS\n",
    "\n",
    "    $ python compute_weights.py tmp.hdf\n",
    "    (q2, q4): (0, 0)\t 1643.0 \t 1000\n",
    "    (q2, q4): (0, 1)\t 21698.0 \t2000\n",
    "    (q2, q4): (0, 2)\t 26548.0 \t3000\n",
    "    (q2, q4): (1, 0)\t 1743.0 \t 5000\n",
    "    (q2, q4): (1, 1)\t 21658.0 \t8000\n",
    "    (q2, q4): (1, 2)\t 26809.0 \t3000\n"
   ]
  },
  {
   "cell_type": "markdown",
   "metadata": {},
   "source": [
    "# Results\n",
    "\n",
    "Create a github repository, push your solution and your report to this repository (not the data). The report should give us a good picture of how you approached and solved the problem. Use whatever format you like, but Jupyter notebook is prefered. \n"
   ]
  },
  {
   "cell_type": "markdown",
   "metadata": {},
   "source": [
    "# Bonus Task \n",
    "\n",
    "On a VPS provider of your choice (there are e.g. free trials on Digital Ocean, Google Compute, AWS, etc.), create a machine with any Linux distribution. Install an ElasticSearch instance, upload the final dataframe to the server and then write a Python script which reads the file line by line and writes data into the database. \n",
    "\n",
    "*Note:* What's the purpose here? To demonstrate ability with cloud servers, or to demonstrate linux/push capability?"
   ]
  },
  {
   "cell_type": "code",
   "execution_count": null,
   "metadata": {
    "collapsed": true
   },
   "outputs": [],
   "source": []
  }
 ],
 "metadata": {
  "kernelspec": {
   "display_name": "Python 3",
   "language": "python",
   "name": "python3"
  },
  "language_info": {
   "codemirror_mode": {
    "name": "ipython",
    "version": 3
   },
   "file_extension": ".py",
   "mimetype": "text/x-python",
   "name": "python",
   "nbconvert_exporter": "python",
   "pygments_lexer": "ipython3",
   "version": "3.6.0"
  }
 },
 "nbformat": 4,
 "nbformat_minor": 2
}
